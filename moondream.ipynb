{
  "nbformat": 4,
  "nbformat_minor": 0,
  "metadata": {
    "colab": {
      "provenance": [],
      "machine_shape": "hm",
      "gpuType": "L4",
      "authorship_tag": "ABX9TyNgZewBuRKhVi9+aAavaFYl"
    },
    "kernelspec": {
      "name": "python3",
      "display_name": "Python 3"
    },
    "language_info": {
      "name": "python"
    },
    "accelerator": "GPU"
  },
  "cells": [
    {
      "cell_type": "code",
      "source": [
        "!pip install transformers accelerate pillow pandas scikit-learn tqdm\n",
        "\n",
        "import os\n",
        "import pandas as pd\n",
        "from PIL import Image\n",
        "from tqdm import tqdm\n",
        "from sklearn.metrics import accuracy_score, f1_score\n",
        "from transformers import AutoModelForCausalLM, AutoTokenizer\n",
        "import torch\n",
        "import collections\n",
        "\n",
        "from google.colab import drive\n",
        "drive.mount('/content/drive')\n",
        "image_dir = \"/content/drive/MyDrive/Dissertation/images\"\n",
        "csv_path = \"/content/drive/MyDrive/Dissertation/labels.csv\""
      ],
      "metadata": {
        "colab": {
          "base_uri": "https://localhost:8080/"
        },
        "id": "SvaUXpvyQaUr",
        "executionInfo": {
          "status": "ok",
          "timestamp": 1756685376615,
          "user_tz": -480,
          "elapsed": 48741,
          "user": {
            "displayName": "jisiyu chen",
            "userId": "00977251081286369193"
          }
        },
        "outputId": "7c351988-1ab3-4fb7-9cda-b83435d3814d"
      },
      "execution_count": null,
      "outputs": [
        {
          "output_type": "stream",
          "name": "stdout",
          "text": [
            "Requirement already satisfied: transformers in /usr/local/lib/python3.12/dist-packages (4.55.4)\n",
            "Requirement already satisfied: accelerate in /usr/local/lib/python3.12/dist-packages (1.10.1)\n",
            "Requirement already satisfied: pillow in /usr/local/lib/python3.12/dist-packages (11.3.0)\n",
            "Requirement already satisfied: pandas in /usr/local/lib/python3.12/dist-packages (2.2.2)\n",
            "Requirement already satisfied: scikit-learn in /usr/local/lib/python3.12/dist-packages (1.6.1)\n",
            "Requirement already satisfied: tqdm in /usr/local/lib/python3.12/dist-packages (4.67.1)\n",
            "Requirement already satisfied: filelock in /usr/local/lib/python3.12/dist-packages (from transformers) (3.19.1)\n",
            "Requirement already satisfied: huggingface-hub<1.0,>=0.34.0 in /usr/local/lib/python3.12/dist-packages (from transformers) (0.34.4)\n",
            "Requirement already satisfied: numpy>=1.17 in /usr/local/lib/python3.12/dist-packages (from transformers) (2.0.2)\n",
            "Requirement already satisfied: packaging>=20.0 in /usr/local/lib/python3.12/dist-packages (from transformers) (25.0)\n",
            "Requirement already satisfied: pyyaml>=5.1 in /usr/local/lib/python3.12/dist-packages (from transformers) (6.0.2)\n",
            "Requirement already satisfied: regex!=2019.12.17 in /usr/local/lib/python3.12/dist-packages (from transformers) (2024.11.6)\n",
            "Requirement already satisfied: requests in /usr/local/lib/python3.12/dist-packages (from transformers) (2.32.4)\n",
            "Requirement already satisfied: tokenizers<0.22,>=0.21 in /usr/local/lib/python3.12/dist-packages (from transformers) (0.21.4)\n",
            "Requirement already satisfied: safetensors>=0.4.3 in /usr/local/lib/python3.12/dist-packages (from transformers) (0.6.2)\n",
            "Requirement already satisfied: psutil in /usr/local/lib/python3.12/dist-packages (from accelerate) (5.9.5)\n",
            "Requirement already satisfied: torch>=2.0.0 in /usr/local/lib/python3.12/dist-packages (from accelerate) (2.8.0+cu126)\n",
            "Requirement already satisfied: python-dateutil>=2.8.2 in /usr/local/lib/python3.12/dist-packages (from pandas) (2.9.0.post0)\n",
            "Requirement already satisfied: pytz>=2020.1 in /usr/local/lib/python3.12/dist-packages (from pandas) (2025.2)\n",
            "Requirement already satisfied: tzdata>=2022.7 in /usr/local/lib/python3.12/dist-packages (from pandas) (2025.2)\n",
            "Requirement already satisfied: scipy>=1.6.0 in /usr/local/lib/python3.12/dist-packages (from scikit-learn) (1.16.1)\n",
            "Requirement already satisfied: joblib>=1.2.0 in /usr/local/lib/python3.12/dist-packages (from scikit-learn) (1.5.1)\n",
            "Requirement already satisfied: threadpoolctl>=3.1.0 in /usr/local/lib/python3.12/dist-packages (from scikit-learn) (3.6.0)\n",
            "Requirement already satisfied: fsspec>=2023.5.0 in /usr/local/lib/python3.12/dist-packages (from huggingface-hub<1.0,>=0.34.0->transformers) (2025.3.0)\n",
            "Requirement already satisfied: typing-extensions>=3.7.4.3 in /usr/local/lib/python3.12/dist-packages (from huggingface-hub<1.0,>=0.34.0->transformers) (4.15.0)\n",
            "Requirement already satisfied: hf-xet<2.0.0,>=1.1.3 in /usr/local/lib/python3.12/dist-packages (from huggingface-hub<1.0,>=0.34.0->transformers) (1.1.8)\n",
            "Requirement already satisfied: six>=1.5 in /usr/local/lib/python3.12/dist-packages (from python-dateutil>=2.8.2->pandas) (1.17.0)\n",
            "Requirement already satisfied: setuptools in /usr/local/lib/python3.12/dist-packages (from torch>=2.0.0->accelerate) (75.2.0)\n",
            "Requirement already satisfied: sympy>=1.13.3 in /usr/local/lib/python3.12/dist-packages (from torch>=2.0.0->accelerate) (1.13.3)\n",
            "Requirement already satisfied: networkx in /usr/local/lib/python3.12/dist-packages (from torch>=2.0.0->accelerate) (3.5)\n",
            "Requirement already satisfied: jinja2 in /usr/local/lib/python3.12/dist-packages (from torch>=2.0.0->accelerate) (3.1.6)\n",
            "Requirement already satisfied: nvidia-cuda-nvrtc-cu12==12.6.77 in /usr/local/lib/python3.12/dist-packages (from torch>=2.0.0->accelerate) (12.6.77)\n",
            "Requirement already satisfied: nvidia-cuda-runtime-cu12==12.6.77 in /usr/local/lib/python3.12/dist-packages (from torch>=2.0.0->accelerate) (12.6.77)\n",
            "Requirement already satisfied: nvidia-cuda-cupti-cu12==12.6.80 in /usr/local/lib/python3.12/dist-packages (from torch>=2.0.0->accelerate) (12.6.80)\n",
            "Requirement already satisfied: nvidia-cudnn-cu12==9.10.2.21 in /usr/local/lib/python3.12/dist-packages (from torch>=2.0.0->accelerate) (9.10.2.21)\n",
            "Requirement already satisfied: nvidia-cublas-cu12==12.6.4.1 in /usr/local/lib/python3.12/dist-packages (from torch>=2.0.0->accelerate) (12.6.4.1)\n",
            "Requirement already satisfied: nvidia-cufft-cu12==11.3.0.4 in /usr/local/lib/python3.12/dist-packages (from torch>=2.0.0->accelerate) (11.3.0.4)\n",
            "Requirement already satisfied: nvidia-curand-cu12==10.3.7.77 in /usr/local/lib/python3.12/dist-packages (from torch>=2.0.0->accelerate) (10.3.7.77)\n",
            "Requirement already satisfied: nvidia-cusolver-cu12==11.7.1.2 in /usr/local/lib/python3.12/dist-packages (from torch>=2.0.0->accelerate) (11.7.1.2)\n",
            "Requirement already satisfied: nvidia-cusparse-cu12==12.5.4.2 in /usr/local/lib/python3.12/dist-packages (from torch>=2.0.0->accelerate) (12.5.4.2)\n",
            "Requirement already satisfied: nvidia-cusparselt-cu12==0.7.1 in /usr/local/lib/python3.12/dist-packages (from torch>=2.0.0->accelerate) (0.7.1)\n",
            "Requirement already satisfied: nvidia-nccl-cu12==2.27.3 in /usr/local/lib/python3.12/dist-packages (from torch>=2.0.0->accelerate) (2.27.3)\n",
            "Requirement already satisfied: nvidia-nvtx-cu12==12.6.77 in /usr/local/lib/python3.12/dist-packages (from torch>=2.0.0->accelerate) (12.6.77)\n",
            "Requirement already satisfied: nvidia-nvjitlink-cu12==12.6.85 in /usr/local/lib/python3.12/dist-packages (from torch>=2.0.0->accelerate) (12.6.85)\n",
            "Requirement already satisfied: nvidia-cufile-cu12==1.11.1.6 in /usr/local/lib/python3.12/dist-packages (from torch>=2.0.0->accelerate) (1.11.1.6)\n",
            "Requirement already satisfied: triton==3.4.0 in /usr/local/lib/python3.12/dist-packages (from torch>=2.0.0->accelerate) (3.4.0)\n",
            "Requirement already satisfied: charset_normalizer<4,>=2 in /usr/local/lib/python3.12/dist-packages (from requests->transformers) (3.4.3)\n",
            "Requirement already satisfied: idna<4,>=2.5 in /usr/local/lib/python3.12/dist-packages (from requests->transformers) (3.10)\n",
            "Requirement already satisfied: urllib3<3,>=1.21.1 in /usr/local/lib/python3.12/dist-packages (from requests->transformers) (2.5.0)\n",
            "Requirement already satisfied: certifi>=2017.4.17 in /usr/local/lib/python3.12/dist-packages (from requests->transformers) (2025.8.3)\n",
            "Requirement already satisfied: mpmath<1.4,>=1.1.0 in /usr/local/lib/python3.12/dist-packages (from sympy>=1.13.3->torch>=2.0.0->accelerate) (1.3.0)\n",
            "Requirement already satisfied: MarkupSafe>=2.0 in /usr/local/lib/python3.12/dist-packages (from jinja2->torch>=2.0.0->accelerate) (3.0.2)\n",
            "Mounted at /content/drive\n"
          ]
        }
      ]
    },
    {
      "cell_type": "code",
      "execution_count": null,
      "metadata": {
        "colab": {
          "base_uri": "https://localhost:8080/",
          "height": 1000,
          "referenced_widgets": [
            "654aa6336aad421a86a0143229a986fb",
            "f82fb0cd6f6b4e47bf75a562711480dc",
            "e59ae0e132dd44fbad5f273ce138d499",
            "98a1dc115354436ca81c89bccbf98391",
            "6229443a1397486fac0d0af4c2810a4f",
            "cc01a4a42a08485fa631e078c1fc8659",
            "e5fa01c1f9f54cf8a283ed643e3ee7c4",
            "6d0aa0f19a314f3aabf181c257bceecf",
            "b30d403daf8c40dd938e3cf1d8993d65",
            "a645dba0ce8f48d4b6df91320f7fa5a0",
            "1f9cbf88d4954bafbc5048eed6406db8",
            "557da73877374bc1aa536e9b05be6edd",
            "0c7b9f9ae4194c10aee584c6d9214b30",
            "0180680e8fef4e37b41428f07eadf2eb",
            "9a2aa51d726a4506ae6c1c2260e470df",
            "c8699a68486c41c49b3244a10f15b4b4",
            "881531dc211e4292b0b6d8212dd6925f",
            "f8008779450e4c6f9dde7ef66adf6d06",
            "364d36babcbb4531a67844e8ff73007d",
            "8274b344821840c4a53696a32b89de86",
            "62498642d4174ba4aefc4e60a9ed5bd2",
            "3e98c2bfe9ce401f8059ddb7d08ac71e",
            "43b437d12970442da62b82f8ca3d2be2",
            "62aa6f33735845daadded4fd0b4360ee",
            "4237556a47484adeb64ec8da154d9e0f",
            "d8783f33eeaa483e9a12edad5f9b785b",
            "1967f094cd3340b09775ac017fb7d337",
            "87f7300e75544f32858f30614f915f8d",
            "95b171f6a3544ad18682789595b309d0",
            "46c7ee526c6c4f7389447f767b8b199e",
            "05a629f97d3142c0a8ea5e3b0bf43c9d",
            "5fc38bf5e67b46f6893457f0869f704d",
            "3e1166bc54a748798d6787ce515e2793",
            "f2786ddc52264d0c8eb804e6f8dc9b7a",
            "6368df2cbfe84de281fe683430c37219",
            "febeb33d003a4779af2e0a72fe936a7b",
            "e455a83333ae4c5f86a7e8c4a62e8112",
            "4512df02d23846f48bfb92ee88c0ec4c",
            "a35464737740498bbacf7fa8e05d4e0c",
            "465a9a777d3b4f2ca9cb98418b4d9a6b",
            "512c5912098e40a29cdaf741bd3a77fc",
            "f174fc5c31424b428975ecf677c5eae3",
            "f8847c5fd2c54aea8cbd74d733e85d18",
            "c0b3165bb9144e7abffabc23adb9749b",
            "12eb30a377fb4c7280007e5a09610d1e",
            "8cccacdc8232432abd14b2ac4132f632",
            "de2456ce1d4f40bd8bb0143ef4481b93",
            "f651365bf10e487295eed6b9acd821a5",
            "fd5a2f1b9454436c9c1e7f4816ccc93c",
            "712c39d1fdff4f9089395ef22dad9836",
            "0f7c55baf42049d6868a50ed038e9cf3",
            "5c3730e22f814b46a1774277e2564c89",
            "883d571ce7f84e3eb2a9434b6bacf45d",
            "fd9d560334d7478b9e36020dd89c8f3c",
            "94daf07314814c6396b533fb47a698f3",
            "aea9fbf995234874aeefbf9a01551516",
            "e6fcc5e15fe545d798f6c81c5ada3365",
            "7da5fe5d60e0429ea0f2eafa83cc727c",
            "06c37704bd46406f96978f0e2906f506",
            "7a2bac039a124abbaffe53116bc1677d",
            "8f8bfd3d17ab43b3bcbb90cdb337d5ed",
            "fc05553bee644fd8945223d4174f8cb4",
            "2240ced313024caa80288b86a9304e6c",
            "422039d0b8884c05bc6429cecbb328a4",
            "cedf16eec20b4cad9330b1bda54777b0",
            "676f23a6c1c34dddb3ef3e0296b7a4a5",
            "5f8bc60bffbd45cc97304d964ba61652",
            "54c3dad28e224df5b8e49db12e850446",
            "65df4c3add424519bceb6f14eb3d5fe8",
            "7cf63604ffdb4af48de622cff82c257b",
            "738ee87dc1184b858555b4fd47502e10",
            "634fae61967144b681bb67daeb5b296b",
            "47a1245070f14112b9e3303be0243202",
            "344e1bd61adf4b6a8644dc9367939a93",
            "f05b244cf13b4ef99e43bb0f5bbaeb07",
            "21a262566e974e2bbfc85bbae25818a2",
            "537562f93712460eb3448af78cfb6881",
            "2674f3a778df410d96f8ca59c4b07117",
            "45a0dd4e0dc043b696f1f7cb04cee966",
            "14016c9f2eb7419d9a4299e180ffb8b1",
            "60483a95d7434df89ca70778b76b7b6e",
            "43afb6497afe4dc28a16ae7fb54d44c0",
            "7449f7a0d8684e50b653cd143229d3ff",
            "9c43e99927fb47c19b79bd7cb230f5b6",
            "7266b80a972c49b192c438945863cd29",
            "725afca2e69744aa9cf364a63cad457e",
            "4f132df019ea4580815e827c04fb8287",
            "7865e85002864e64947d873f8165cd54",
            "4fa008a3f0504cd8994963c8641f62a1",
            "4555be5325e84a039ab35f0e4e6e543e",
            "1fe4874a7b204c54965ef609540b519a",
            "27c3d05b959f4a26819d2764c2436f57",
            "03540ccb5cd2474c9ada0b96117cb99b",
            "0778a5367ace4d029f1c2bc0d579a89c",
            "24d4e067f149480eb699076313c4a23d",
            "02d6fc576077441e94f65d0d88595fe6",
            "70031a042dc14109903feb94ba4a872d",
            "253e08670d2c44af906aa0995fef72fe",
            "4e10a5471aed49bc9b47ef276ca3b7a0",
            "4710ab27e5004f9086a75a28fbc9d924",
            "6968e53f5a5747f0bf1ac76f994c7b79",
            "a7b006b179e94f5bac40a71219fd3ac8",
            "eaf203a8a3294c6d886ac5821dcda4e0",
            "cc14b7f442fe4ec88e933975000a8600",
            "395008c6092d4e1e936aba540916d4de",
            "839c0573b7dd43929e825ad7bfa2d323",
            "95a614a6218f4893a2f8359cc47d178e",
            "cb42606222d94c1e9bf46f5c310de68b",
            "fd318a2317af49c184234f0b727bd337",
            "e4773dc9a78b45338459ad3db61b166d",
            "49be5687f87d4f77abb2d437cab32708",
            "562d96848e884251ac61e7695bb22b3d",
            "43a07842c7fc48d48a8ffb794392ef65",
            "f60ec1b9cac04476a2351e6b6936e488",
            "bd03281e8cd74bd5acf0cc969410e081",
            "0462d50e33c148bda8d75b6df64b9257",
            "17f1a9155bec412fb3abc8d133029fea",
            "f5ebf8ac6d004fb2afd68fbbada68268",
            "7e29994b2c004897bc7bd9e438f40d61",
            "00d6af7393c84adba44e2bb666bcfb40",
            "fade46b723e747308842f6d0dbf084de",
            "dd8e54c5ffb64df39c3de9532bbd6358",
            "76712af7dfc146808b8cd199518d825f",
            "f9cb437685a4400490fc7e8284b1b9d1",
            "365a65b4484e4f1db67cd0f1363265bf",
            "71b34d03138044589c2d173e9e5d2c7f",
            "e0f9a0b3d6fd4db5bca904af558018e7",
            "802d474b595f4b65ba194c027ccd718f",
            "3c38b3a552d942dca9eb356757ebbe1b",
            "b940fdee7f424011ba50fc550b89ba40",
            "f5feced6daae4155a0f208162ecf55f2",
            "2d76a45fd9694545a304d0988e54730e",
            "e263079eb8094d2fb5589e4ba1fa803d",
            "6f114f85584640cf8daacd38c2d9589d",
            "64fd3093e2ea4409a5150cbeba709c6a",
            "474fe2b2e59946b1b5309a9eb135da14",
            "43a994c49464420eb4f21cf34b1bedee",
            "03495fc94e67427fa3864015ec920f85",
            "c109b03715a141ee953f31c546a9773b",
            "174a776bacc54b68984fbfa4204081da",
            "c6edbc705afa4f57b9ad3ea4b7255b0c",
            "0ef33d8ec91340169a700802b57c1a6a",
            "5b208fe11d5540ab8c31155f665d5e8b",
            "49ef2ba14c9f43f790238508cb5c3758",
            "3d7bdc3fb27f4835a0191b3a875a0770",
            "2f66d2ba1014429dbf47ca58fe188000",
            "5ddab69c8f1a4e0baef9bfec450d7615",
            "11debf95fe7348bebc1d30e6f000a161",
            "308bb1cc91c84202af53f8225c8d9aea",
            "795349de69114079a3ffef5b788ae0f9",
            "9c9a0e831d85486a962e0dab98e4798f",
            "c7746ff185164cd28a832e91197040fb",
            "888fd89fb2a14572ab0e3d51f74d5a1e",
            "43a69a414eb242b9a3ed3da54e63ef2c",
            "8f745a259daf4ec6a07e5c4757541663",
            "b08f43525b314569aa1494713fa8601a",
            "b1a2918f114b4524a3a630fdfe740b6f",
            "78720c91e970429c97639c1d2c83ea33",
            "a31945fdbf4e446aa3c73affea316224",
            "225dbc6f754b452580597a0cce9ade98",
            "055bca7371f44073995f2a8713fd86c9",
            "e45910fbc62540f9adff226b8dbf15f2",
            "15f11168104c45fca4169ff061170fed",
            "2086290c429443078dbba5c33ccfc211",
            "5721475bb9a74626a70f97ada4598874",
            "10bab1816fa6492e94675142d7ba52be",
            "fa67a04d6a5e4659beb8a7d9d192e2fd",
            "81ffaae91c7e41da831247d1801f4cbf",
            "6a91a33e22204ac3a194af560cdc2e2b",
            "b4788807796444f287a26c660e432a95",
            "f74dc609323645cf9e06c746205f918a",
            "56efaa05c1ce4b9daef31d36fb8b7416",
            "8cbeb14cb2244b84861c724c4411f3e3",
            "bf2b14eb92b04b18a58c6855c892c64c",
            "8a0b973c10374cff83c984a2ef162c26",
            "4016f10924d54e4383546bcd0d0400a7",
            "3900c3a3edda48de885666f732e984f7",
            "149e44083cf74d97bdb8a7c9c001689a",
            "dbd47b7da4f24d1daa2704893070b5d3",
            "974bce320ae6462b9c91fb2db254b2f5",
            "61f094f23bf7483190644ef9ba17fdba",
            "4c844b6aab424f16a3d327f53cb5cfe3",
            "a23b98616ce342018f7472665d7712de",
            "b4639edd495242d3b0baea82002d266b",
            "b9cdde7cbd764e1ca79488385d522d02",
            "e7faebed171541fca88aee8f93a549ad",
            "04ef168b6c444bb1be57ecfe8c01be64",
            "4bbdfe38c2b24d199f2591c16ba7cbcb",
            "7cfaf7dee1e74d3fb6948dce9620c58b",
            "057fed54f1ed4555ae7b242d94c43ffe",
            "ca4f2c43a84c4f7d9de7cfab76f62cb2",
            "ea36d870f5e34b8baea1d78ed97b0d5b",
            "160b0b4227074738bc7e37ac313a0734",
            "bd1b4d5acb5c43d7ad39d23ca5236141",
            "4d5291b91b484a999d581c1a75b2d1cf",
            "566077d86efd48b4a3ff97f018b53696",
            "cc1de110e852415486384b41bd4b9eb1",
            "862f867bcd09418b8c4fff41bf24c3bc",
            "91f2cbf698984e05852690e2e1d3389b",
            "16fa27a98e954eb7b20e2b73cae1e1ca",
            "b35729d4bc284baea3c2670f0e9a9f24",
            "036d14a717dc4554947fff57b82c8a62",
            "8dd4dd274f7a47e9ade4d83b0fd831db",
            "f7f4b081947948138a820ad9120c02de",
            "6b423772440d435a90d24f409d88be05",
            "dd4d65bb2d2f44678f08064803faa154",
            "34b048f206334c8ba3cf78ea54ea5d2e",
            "860e780ffd594ebca5881eeac07b4de1",
            "3808438247f947cb827fa27b08b4b0eb",
            "a991bbc9618f4cd68fe1523fa3f9f2a0",
            "d42040ad83924bdc9be221fee847db9b",
            "a27f8a6964f24dafa276ce98e8f03176",
            "01f611e9847c4d269d8155362b1a07ee",
            "1ba61e6229fa46569977d91929cdc4f8",
            "d408f21a8b594240beecd5e209d2f3d7",
            "3beab187b74249f6aa39df1446e59235",
            "94d0168bba9f45b5b5b6e10b8ef3bd01",
            "e98770aa9da944668d915f159c61b19b",
            "548cceafcbba42729860b2c6a687bfac",
            "348cf32fe7d34da09854b5989394d6a8",
            "5acb8955607a47d48def567ff2dba7b0",
            "6ef0a071150a484098fb2c8c8f6aef04",
            "3cd4cf8433f2480d94290cec17545720",
            "f53aa6bb18504423b9d84d12fa3a89e2",
            "8bce729f5d06408faf0e9f0a1f8134c0",
            "17018113c2804d11a352714302a79c49",
            "3e474a70f54040029f94db522d9f8286",
            "274ca2657ff44d5db6221e14cef1017d",
            "8fa05d9084134a14bb29a60d0504c5b0",
            "a94ad3e6ff0947d78d9a39805b3e2e59",
            "ac3984350859479ca2d923b8dce8ac37"
          ]
        },
        "id": "cRNzzlGzPPEA",
        "executionInfo": {
          "status": "ok",
          "timestamp": 1756690258262,
          "user_tz": -480,
          "elapsed": 4881634,
          "user": {
            "displayName": "jisiyu chen",
            "userId": "00977251081286369193"
          }
        },
        "outputId": "af28adc9-19c2-4b98-bd41-4c2323a55722"
      },
      "outputs": [
        {
          "output_type": "stream",
          "name": "stdout",
          "text": [
            "dataset length: 6992\n"
          ]
        },
        {
          "output_type": "stream",
          "name": "stderr",
          "text": [
            "/usr/local/lib/python3.12/dist-packages/huggingface_hub/utils/_auth.py:94: UserWarning: \n",
            "The secret `HF_TOKEN` does not exist in your Colab secrets.\n",
            "To authenticate with the Hugging Face Hub, create a token in your settings tab (https://huggingface.co/settings/tokens), set it as secret in your Google Colab and restart your session.\n",
            "You will be able to reuse this secret in all of your notebooks.\n",
            "Please note that authentication is recommended but still optional to access public models or datasets.\n",
            "  warnings.warn(\n"
          ]
        },
        {
          "output_type": "display_data",
          "data": {
            "text/plain": [
              "tokenizer_config.json: 0.00B [00:00, ?B/s]"
            ],
            "application/vnd.jupyter.widget-view+json": {
              "version_major": 2,
              "version_minor": 0,
              "model_id": "654aa6336aad421a86a0143229a986fb"
            }
          },
          "metadata": {}
        },
        {
          "output_type": "display_data",
          "data": {
            "text/plain": [
              "vocab.json: 0.00B [00:00, ?B/s]"
            ],
            "application/vnd.jupyter.widget-view+json": {
              "version_major": 2,
              "version_minor": 0,
              "model_id": "557da73877374bc1aa536e9b05be6edd"
            }
          },
          "metadata": {}
        },
        {
          "output_type": "display_data",
          "data": {
            "text/plain": [
              "merges.txt: 0.00B [00:00, ?B/s]"
            ],
            "application/vnd.jupyter.widget-view+json": {
              "version_major": 2,
              "version_minor": 0,
              "model_id": "43b437d12970442da62b82f8ca3d2be2"
            }
          },
          "metadata": {}
        },
        {
          "output_type": "display_data",
          "data": {
            "text/plain": [
              "tokenizer.json: 0.00B [00:00, ?B/s]"
            ],
            "application/vnd.jupyter.widget-view+json": {
              "version_major": 2,
              "version_minor": 0,
              "model_id": "f2786ddc52264d0c8eb804e6f8dc9b7a"
            }
          },
          "metadata": {}
        },
        {
          "output_type": "display_data",
          "data": {
            "text/plain": [
              "added_tokens.json: 0.00B [00:00, ?B/s]"
            ],
            "application/vnd.jupyter.widget-view+json": {
              "version_major": 2,
              "version_minor": 0,
              "model_id": "12eb30a377fb4c7280007e5a09610d1e"
            }
          },
          "metadata": {}
        },
        {
          "output_type": "display_data",
          "data": {
            "text/plain": [
              "special_tokens_map.json:   0%|          | 0.00/99.0 [00:00<?, ?B/s]"
            ],
            "application/vnd.jupyter.widget-view+json": {
              "version_major": 2,
              "version_minor": 0,
              "model_id": "aea9fbf995234874aeefbf9a01551516"
            }
          },
          "metadata": {}
        },
        {
          "output_type": "display_data",
          "data": {
            "text/plain": [
              "config.json:   0%|          | 0.00/277 [00:00<?, ?B/s]"
            ],
            "application/vnd.jupyter.widget-view+json": {
              "version_major": 2,
              "version_minor": 0,
              "model_id": "5f8bc60bffbd45cc97304d964ba61652"
            }
          },
          "metadata": {}
        },
        {
          "output_type": "display_data",
          "data": {
            "text/plain": [
              "hf_moondream.py: 0.00B [00:00, ?B/s]"
            ],
            "application/vnd.jupyter.widget-view+json": {
              "version_major": 2,
              "version_minor": 0,
              "model_id": "2674f3a778df410d96f8ca59c4b07117"
            }
          },
          "metadata": {}
        },
        {
          "output_type": "display_data",
          "data": {
            "text/plain": [
              "vision.py: 0.00B [00:00, ?B/s]"
            ],
            "application/vnd.jupyter.widget-view+json": {
              "version_major": 2,
              "version_minor": 0,
              "model_id": "4fa008a3f0504cd8994963c8641f62a1"
            }
          },
          "metadata": {}
        },
        {
          "output_type": "display_data",
          "data": {
            "text/plain": [
              "image_crops.py: 0.00B [00:00, ?B/s]"
            ],
            "application/vnd.jupyter.widget-view+json": {
              "version_major": 2,
              "version_minor": 0,
              "model_id": "4710ab27e5004f9086a75a28fbc9d924"
            }
          },
          "metadata": {}
        },
        {
          "output_type": "stream",
          "name": "stderr",
          "text": [
            "A new version of the following files was downloaded from https://huggingface.co/vikhyatk/moondream2:\n",
            "- image_crops.py\n",
            ". Make sure to double-check they do not contain any added malicious code. To avoid downloading new versions of the code file, you can pin a revision.\n"
          ]
        },
        {
          "output_type": "display_data",
          "data": {
            "text/plain": [
              "config.py: 0.00B [00:00, ?B/s]"
            ],
            "application/vnd.jupyter.widget-view+json": {
              "version_major": 2,
              "version_minor": 0,
              "model_id": "49be5687f87d4f77abb2d437cab32708"
            }
          },
          "metadata": {}
        },
        {
          "output_type": "stream",
          "name": "stderr",
          "text": [
            "A new version of the following files was downloaded from https://huggingface.co/vikhyatk/moondream2:\n",
            "- config.py\n",
            ". Make sure to double-check they do not contain any added malicious code. To avoid downloading new versions of the code file, you can pin a revision.\n"
          ]
        },
        {
          "output_type": "display_data",
          "data": {
            "text/plain": [
              "layers.py: 0.00B [00:00, ?B/s]"
            ],
            "application/vnd.jupyter.widget-view+json": {
              "version_major": 2,
              "version_minor": 0,
              "model_id": "dd8e54c5ffb64df39c3de9532bbd6358"
            }
          },
          "metadata": {}
        },
        {
          "output_type": "stream",
          "name": "stderr",
          "text": [
            "A new version of the following files was downloaded from https://huggingface.co/vikhyatk/moondream2:\n",
            "- layers.py\n",
            ". Make sure to double-check they do not contain any added malicious code. To avoid downloading new versions of the code file, you can pin a revision.\n",
            "A new version of the following files was downloaded from https://huggingface.co/vikhyatk/moondream2:\n",
            "- vision.py\n",
            "- image_crops.py\n",
            "- config.py\n",
            "- layers.py\n",
            ". Make sure to double-check they do not contain any added malicious code. To avoid downloading new versions of the code file, you can pin a revision.\n"
          ]
        },
        {
          "output_type": "display_data",
          "data": {
            "text/plain": [
              "text.py: 0.00B [00:00, ?B/s]"
            ],
            "application/vnd.jupyter.widget-view+json": {
              "version_major": 2,
              "version_minor": 0,
              "model_id": "e263079eb8094d2fb5589e4ba1fa803d"
            }
          },
          "metadata": {}
        },
        {
          "output_type": "display_data",
          "data": {
            "text/plain": [
              "rope.py: 0.00B [00:00, ?B/s]"
            ],
            "application/vnd.jupyter.widget-view+json": {
              "version_major": 2,
              "version_minor": 0,
              "model_id": "49ef2ba14c9f43f790238508cb5c3758"
            }
          },
          "metadata": {}
        },
        {
          "output_type": "stream",
          "name": "stderr",
          "text": [
            "A new version of the following files was downloaded from https://huggingface.co/vikhyatk/moondream2:\n",
            "- rope.py\n",
            ". Make sure to double-check they do not contain any added malicious code. To avoid downloading new versions of the code file, you can pin a revision.\n",
            "A new version of the following files was downloaded from https://huggingface.co/vikhyatk/moondream2:\n",
            "- text.py\n",
            "- rope.py\n",
            ". Make sure to double-check they do not contain any added malicious code. To avoid downloading new versions of the code file, you can pin a revision.\n"
          ]
        },
        {
          "output_type": "display_data",
          "data": {
            "text/plain": [
              "utils.py: 0.00B [00:00, ?B/s]"
            ],
            "application/vnd.jupyter.widget-view+json": {
              "version_major": 2,
              "version_minor": 0,
              "model_id": "8f745a259daf4ec6a07e5c4757541663"
            }
          },
          "metadata": {}
        },
        {
          "output_type": "stream",
          "name": "stderr",
          "text": [
            "A new version of the following files was downloaded from https://huggingface.co/vikhyatk/moondream2:\n",
            "- utils.py\n",
            ". Make sure to double-check they do not contain any added malicious code. To avoid downloading new versions of the code file, you can pin a revision.\n"
          ]
        },
        {
          "output_type": "display_data",
          "data": {
            "text/plain": [
              "region.py: 0.00B [00:00, ?B/s]"
            ],
            "application/vnd.jupyter.widget-view+json": {
              "version_major": 2,
              "version_minor": 0,
              "model_id": "10bab1816fa6492e94675142d7ba52be"
            }
          },
          "metadata": {}
        },
        {
          "output_type": "stream",
          "name": "stderr",
          "text": [
            "A new version of the following files was downloaded from https://huggingface.co/vikhyatk/moondream2:\n",
            "- region.py\n",
            ". Make sure to double-check they do not contain any added malicious code. To avoid downloading new versions of the code file, you can pin a revision.\n"
          ]
        },
        {
          "output_type": "display_data",
          "data": {
            "text/plain": [
              "moondream.py: 0.00B [00:00, ?B/s]"
            ],
            "application/vnd.jupyter.widget-view+json": {
              "version_major": 2,
              "version_minor": 0,
              "model_id": "3900c3a3edda48de885666f732e984f7"
            }
          },
          "metadata": {}
        },
        {
          "output_type": "display_data",
          "data": {
            "text/plain": [
              "lora.py: 0.00B [00:00, ?B/s]"
            ],
            "application/vnd.jupyter.widget-view+json": {
              "version_major": 2,
              "version_minor": 0,
              "model_id": "4bbdfe38c2b24d199f2591c16ba7cbcb"
            }
          },
          "metadata": {}
        },
        {
          "output_type": "stream",
          "name": "stderr",
          "text": [
            "A new version of the following files was downloaded from https://huggingface.co/vikhyatk/moondream2:\n",
            "- lora.py\n",
            ". Make sure to double-check they do not contain any added malicious code. To avoid downloading new versions of the code file, you can pin a revision.\n",
            "A new version of the following files was downloaded from https://huggingface.co/vikhyatk/moondream2:\n",
            "- moondream.py\n",
            "- lora.py\n",
            ". Make sure to double-check they do not contain any added malicious code. To avoid downloading new versions of the code file, you can pin a revision.\n",
            "A new version of the following files was downloaded from https://huggingface.co/vikhyatk/moondream2:\n",
            "- hf_moondream.py\n",
            "- vision.py\n",
            "- text.py\n",
            "- utils.py\n",
            "- region.py\n",
            "- moondream.py\n",
            ". Make sure to double-check they do not contain any added malicious code. To avoid downloading new versions of the code file, you can pin a revision.\n"
          ]
        },
        {
          "output_type": "display_data",
          "data": {
            "text/plain": [
              "model.safetensors:   0%|          | 0.00/3.85G [00:00<?, ?B/s]"
            ],
            "application/vnd.jupyter.widget-view+json": {
              "version_major": 2,
              "version_minor": 0,
              "model_id": "91f2cbf698984e05852690e2e1d3389b"
            }
          },
          "metadata": {}
        },
        {
          "output_type": "display_data",
          "data": {
            "text/plain": [
              "tokenizer.json: 0.00B [00:00, ?B/s]"
            ],
            "application/vnd.jupyter.widget-view+json": {
              "version_major": 2,
              "version_minor": 0,
              "model_id": "a991bbc9618f4cd68fe1523fa3f9f2a0"
            }
          },
          "metadata": {}
        },
        {
          "output_type": "display_data",
          "data": {
            "text/plain": [
              "generation_config.json:   0%|          | 0.00/69.0 [00:00<?, ?B/s]"
            ],
            "application/vnd.jupyter.widget-view+json": {
              "version_major": 2,
              "version_minor": 0,
              "model_id": "5acb8955607a47d48def567ff2dba7b0"
            }
          },
          "metadata": {}
        },
        {
          "output_type": "stream",
          "name": "stderr",
          "text": [
            " 95%|█████████▌| 6676/6992 [1:17:16<04:34,  1.15it/s]/usr/local/lib/python3.12/dist-packages/PIL/Image.py:1047: UserWarning: Palette images with Transparency expressed in bytes should be converted to RGBA images\n",
            "  warnings.warn(\n",
            "100%|██████████| 6992/6992 [1:20:42<00:00,  1.44it/s]"
          ]
        },
        {
          "output_type": "stream",
          "name": "stdout",
          "text": [
            "\n",
            "=== Examples of the first three images ===\n",
            "Image 1: True label = very_positive, Prediction label = negative\n",
            "Image 2: True label = very_positive, Prediction label = positive\n",
            "Image 3: True label = positive, Prediction label = negative\n",
            "Accuracy: 0.1875\n",
            "Weighted F1: 0.17457238576024497\n",
            "Macro F1: 0.10102940074402467\n"
          ]
        },
        {
          "output_type": "stream",
          "name": "stderr",
          "text": [
            "\n"
          ]
        }
      ],
      "source": [
        "df = pd.read_csv(csv_path, encoding=\"ISO-8859-1\")\n",
        "print(\"dataset length:\", len(df))\n",
        "\n",
        "classes = [\"very_positive\", \"positive\", \"neutral\", \"negative\", \"very_negative\"]\n",
        "\n",
        "keyword2class = {\n",
        "    \"very_positive\": [\n",
        "        \"ecstatic\", \"overjoyed\", \"thrilled\", \"delighted\", \"elated\",\n",
        "        \"extremely happy\", \"super happy\", \"euphoric\", \"radiant\", \"joyful\",\n",
        "        \"laughing\", \"smiling broadly\", \"cheerful\", \"hilarious\"\n",
        "    ],\n",
        "    \"positive\": [\n",
        "        \"happy\", \"smile\", \"content\", \"satisfied\", \"optimistic\",\n",
        "        \"hopeful\", \"relaxed\", \"calm and happy\", \"pleasant\",\n",
        "        \"friendly\", \"peaceful\", \"good mood\"\n",
        "    ],\n",
        "    \"neutral\": [\n",
        "        \"neutral\", \"indifferent\", \"calm\", \"serious\", \"expressionless\",\n",
        "        \"blank face\", \"no strong emotion\", \"objective\", \"ordinary\"\n",
        "    ],\n",
        "    \"negative\": [\n",
        "        \"sad\", \"disappointed\", \"angry\", \"annoyed\", \"upset\",\n",
        "        \"frowning\", \"irritated\", \"unhappy\", \"frustrated\", \"tired\",\n",
        "        \"stressed\", \"bored\", \"worried\", \"lonely\"\n",
        "    ],\n",
        "    \"very_negative\": [\n",
        "        \"crying\", \"depressed\", \"miserable\", \"heartbroken\", \"furious\",\n",
        "        \"devastated\", \"terrified\", \"screaming\", \"hopeless\", \"grief\",\n",
        "        \"extremely angry\", \"rage\", \"panic\", \"suffering\"\n",
        "    ]\n",
        "}\n",
        "\n",
        "model_id = \"vikhyatk/moondream2\"\n",
        "device = \"cuda\" if torch.cuda.is_available() else \"cpu\"\n",
        "\n",
        "tokenizer = AutoTokenizer.from_pretrained(model_id)\n",
        "model = AutoModelForCausalLM.from_pretrained(\n",
        "    model_id,\n",
        "    trust_remote_code=True,\n",
        "    torch_dtype=torch.float16,\n",
        "    device_map=\"auto\"\n",
        ").eval()\n",
        "\n",
        "def predict_sentiment(img_path):\n",
        "    try:\n",
        "        image = Image.open(img_path).convert(\"RGB\")\n",
        "\n",
        "        question = (\n",
        "            \"You are an expert in image sentiment classifier. \"\n",
        "            \"Look at the image and classify the emotion strictly into one of these 5 categories: \"\n",
        "            \"very_positive, positive, neutral, negative, very_negative. \"\n",
        "            \"Answer with ONLY the category name, nothing else.\"\n",
        "        )\n",
        "\n",
        "        enc_image = model.encode_image(image)\n",
        "        output = model.answer_question(enc_image, question, tokenizer)\n",
        "        pred = output.lower().strip()\n",
        "\n",
        "        # Mapping to legal categories\n",
        "        for c in classes:\n",
        "            if c in pred:\n",
        "                return c\n",
        "        return \"neutral\"\n",
        "    except Exception as e:\n",
        "        print(f\"error {img_path}: {e}\")\n",
        "        return \"neutral\"\n",
        "\n",
        "y_true, y_pred = [], []\n",
        "\n",
        "for _, row in tqdm(df.iterrows(), total=len(df)):\n",
        "    fname = row[\"image_name\"]\n",
        "    true_label = row[\"overall_sentiment\"].strip().lower()\n",
        "    img_path = os.path.join(image_dir, fname)\n",
        "\n",
        "    if os.path.exists(img_path):\n",
        "        pred_label = predict_sentiment(img_path)\n",
        "    else:\n",
        "        print(f\"File not exists: {img_path}\")\n",
        "        pred_label = \"neutral\"\n",
        "\n",
        "    y_true.append(true_label)\n",
        "    y_pred.append(pred_label)\n",
        "\n",
        "print(\"\\nExamples of the first three images\")\n",
        "for i in range(min(3, len(y_true))):\n",
        "    print(f\"Image {i+1}: True label = {y_true[i]}, Prediction label = {y_pred[i]}\")\n",
        "\n",
        "acc = accuracy_score(y_true, y_pred)\n",
        "f1_weighted = f1_score(y_true, y_pred, average=\"weighted\")\n",
        "f1_macro = f1_score(y_true, y_pred, average=\"macro\")\n",
        "\n",
        "print(\"Accuracy:\", acc)\n",
        "print(\"Weighted F1:\", f1_weighted)\n",
        "print(\"Macro F1:\", f1_macro)"
      ]
    }
  ]
}